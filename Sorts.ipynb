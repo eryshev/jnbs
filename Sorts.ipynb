{
 "cells": [
  {
   "cell_type": "markdown",
   "metadata": {},
   "source": [
    "# SORTS"
   ]
  },
  {
   "cell_type": "markdown",
   "metadata": {},
   "source": [
    "## Elementary sorts"
   ]
  },
  {
   "cell_type": "markdown",
   "metadata": {},
   "source": [
    "## Commons"
   ]
  },
  {
   "cell_type": "code",
   "execution_count": 90,
   "metadata": {
    "collapsed": true
   },
   "outputs": [],
   "source": [
    "def str2arr(s):\n",
    "    return s.split()"
   ]
  },
  {
   "cell_type": "code",
   "execution_count": 91,
   "metadata": {
    "collapsed": true
   },
   "outputs": [],
   "source": [
    "def arr2str(arr):\n",
    "    return \" \".join(arr)"
   ]
  },
  {
   "cell_type": "markdown",
   "metadata": {},
   "source": [
    "## Selection sort"
   ]
  },
  {
   "cell_type": "code",
   "execution_count": 28,
   "metadata": {
    "collapsed": false
   },
   "outputs": [],
   "source": [
    "def selection_sort(arr): \n",
    "    n = len(arr)\n",
    "    exc_count = 0\n",
    "    for i in range(n):\n",
    "        min = arr[i]\n",
    "        min_ind = i\n",
    "        for j in range(i, n):\n",
    "            if (arr[j] < min):\n",
    "                min = arr[j]\n",
    "                min_ind = j\n",
    "        arr[i], arr[min_ind] = arr[min_ind], arr[i]\n",
    "        exc_count = exc_count + 1\n",
    "        if (exc_count == 4):\n",
    "            print(arr2str(map(str, arr)))\n",
    "    return arr"
   ]
  },
  {
   "cell_type": "code",
   "execution_count": 22,
   "metadata": {
    "collapsed": false
   },
   "outputs": [
    {
     "name": "stdout",
     "output_type": "stream",
     "text": [
      "0 1 2 3 7 8 9 6 5 4\n"
     ]
    },
    {
     "data": {
      "text/plain": [
       "[0, 1, 2, 3, 4, 5, 6, 7, 8, 9]"
      ]
     },
     "execution_count": 22,
     "metadata": {},
     "output_type": "execute_result"
    }
   ],
   "source": [
    "selection_sort([1, 3, 5, 6, 7, 8, 9, 0, 2, 4])"
   ]
  },
  {
   "cell_type": "code",
   "execution_count": 30,
   "metadata": {
    "collapsed": false
   },
   "outputs": [],
   "source": [
    "def insertion_sort(arr):\n",
    "    n = len(arr)\n",
    "    exc_count = 0\n",
    "    for i in range(n):\n",
    "        j = i\n",
    "        while(j > 0 and arr[j] < arr[j - 1]):\n",
    "            arr[j - 1], arr[j] = arr[j], arr[j - 1]\n",
    "            exc_count = exc_count + 1\n",
    "            if (exc_count == 6):\n",
    "                print(exc_count)\n",
    "                print(arr2str(map(str, arr)))\n",
    "            j -= 1\n",
    "    return arr"
   ]
  },
  {
   "cell_type": "code",
   "execution_count": 26,
   "metadata": {
    "collapsed": false
   },
   "outputs": [
    {
     "name": "stdout",
     "output_type": "stream",
     "text": [
      "1 3 5 0 6 7 8 9 2 4\n"
     ]
    },
    {
     "data": {
      "text/plain": [
       "[0, 1, 2, 3, 4, 5, 6, 7, 8, 9]"
      ]
     },
     "execution_count": 26,
     "metadata": {},
     "output_type": "execute_result"
    }
   ],
   "source": [
    "insertion_sort([1, 3, 5, 6, 7, 8, 9, 0, 2, 4])"
   ]
  },
  {
   "cell_type": "markdown",
   "metadata": {},
   "source": [
    "## Shell Sort "
   ]
  },
  {
   "cell_type": "code",
   "execution_count": 42,
   "metadata": {
    "collapsed": false
   },
   "outputs": [],
   "source": [
    "def shell_knuth_sort(arr):\n",
    "    n = len(arr)\n",
    "    h = 1\n",
    "    while (h < n // 3):\n",
    "        h = 3 * h + 1\n",
    "        \n",
    "    while h > 0:\n",
    "        for i in range(h, n):\n",
    "            j = i\n",
    "            while (j >= h and arr[j] < arr[j - h]):\n",
    "                arr[j - h], arr[j] = arr[j], arr[j - h]\n",
    "                j = j - h\n",
    "        if (h == 4):\n",
    "            print(4)\n",
    "            print(arr2str(map(str, arr)))\n",
    "        h = h // 3\n",
    "    return arr\n",
    "    "
   ]
  },
  {
   "cell_type": "code",
   "execution_count": 43,
   "metadata": {
    "collapsed": false
   },
   "outputs": [
    {
     "name": "stdout",
     "output_type": "stream",
     "text": [
      "4\n",
      "1 3 5 0 2 4 9 6 7 8\n"
     ]
    },
    {
     "data": {
      "text/plain": [
       "[0, 1, 2, 3, 4, 5, 6, 7, 8, 9]"
      ]
     },
     "execution_count": 43,
     "metadata": {},
     "output_type": "execute_result"
    }
   ],
   "source": [
    "shell_knuth_sort([1, 3, 5, 6, 7, 8, 9, 0, 2, 4])"
   ]
  },
  {
   "cell_type": "markdown",
   "metadata": {},
   "source": [
    "# Complex Sorts"
   ]
  },
  {
   "cell_type": "markdown",
   "metadata": {},
   "source": [
    "## Merge sort"
   ]
  },
  {
   "cell_type": "code",
   "execution_count": 69,
   "metadata": {
    "collapsed": false
   },
   "outputs": [],
   "source": [
    "def merge(a, aux, lo, mi, hi):\n",
    "    aux = a[:]\n",
    "    \n",
    "    i = lo\n",
    "    j = mi\n",
    "    for k in range(lo, hi):\n",
    "        if i == mi:\n",
    "            a[k] = aux[j]\n",
    "            j += 1\n",
    "        elif j == hi:\n",
    "            a[k] = aux[i]\n",
    "            i += 1\n",
    "        elif aux[i] <= aux[j]:\n",
    "            a[k] = aux[i]\n",
    "            i += 1\n",
    "        else:\n",
    "            a[k] = aux[j]\n",
    "            j += 1\n",
    "            \n",
    "    return a"
   ]
  },
  {
   "cell_type": "code",
   "execution_count": 71,
   "metadata": {
    "collapsed": false
   },
   "outputs": [
    {
     "data": {
      "text/plain": [
       "[1, 2, 2, 4, 7, 8, 9]"
      ]
     },
     "execution_count": 71,
     "metadata": {},
     "output_type": "execute_result"
    }
   ],
   "source": [
    "merge([7, 8, 9, 1, 2, 2, 4], [], 0, 0, 7)"
   ]
  },
  {
   "cell_type": "code",
   "execution_count": 102,
   "metadata": {
    "collapsed": true
   },
   "outputs": [],
   "source": [
    "mcounter = 0\n",
    "def msort(a, aux, lo, hi):\n",
    "    global mcounter\n",
    "    if hi <= lo + 1:\n",
    "        return a\n",
    "    \n",
    "    mi = lo + (hi - lo) // 2\n",
    "    msort(a, aux, lo, mi)\n",
    "    msort(a, aux, mi, hi)\n",
    "    merge(a, aux, lo, mi, hi)\n",
    "    mcounter += 1\n",
    "    if (mcounter == 7):\n",
    "        print(arr2str(a))\n",
    "        mcounter == 100\n",
    "    \n",
    "    return a\n",
    "\n",
    "def merge_sort(a):\n",
    "    global mcounter\n",
    "    n = len(a)\n",
    "    aux = a[:]\n",
    "    \n",
    "    mcounter = 0\n",
    "    return msort(a, aux, 0, n)\n",
    "    "
   ]
  },
  {
   "cell_type": "markdown",
   "metadata": {},
   "source": [
    "# Tests"
   ]
  },
  {
   "cell_type": "code",
   "execution_count": 24,
   "metadata": {
    "collapsed": false
   },
   "outputs": [
    {
     "name": "stdout",
     "output_type": "stream",
     "text": [
      "20 27 34 47 76 64 74 80 61 58\n"
     ]
    },
    {
     "data": {
      "text/plain": [
       "['20', '27', '34', '47', '58', '61', '64', '74', '76', '80']"
      ]
     },
     "execution_count": 24,
     "metadata": {},
     "output_type": "execute_result"
    }
   ],
   "source": [
    "selection_sort(str2arr(\"74 61 76 27 34 64 20 80 47 58\"))"
   ]
  },
  {
   "cell_type": "code",
   "execution_count": 31,
   "metadata": {
    "collapsed": false
   },
   "outputs": [
    {
     "name": "stdout",
     "output_type": "stream",
     "text": [
      "6\n",
      "11 12 51 63 39 69 86 71 89 33\n"
     ]
    },
    {
     "data": {
      "text/plain": [
       "['11', '12', '33', '39', '51', '63', '69', '71', '86', '89']"
      ]
     },
     "execution_count": 31,
     "metadata": {},
     "output_type": "execute_result"
    }
   ],
   "source": [
    "insertion_sort(str2arr(\"11 51 63 69 86 12 39 71 89 33\"))"
   ]
  },
  {
   "cell_type": "code",
   "execution_count": 44,
   "metadata": {
    "collapsed": false
   },
   "outputs": [
    {
     "name": "stdout",
     "output_type": "stream",
     "text": [
      "4\n",
      "13 59 67 50 21 73 78 71 37 94\n"
     ]
    },
    {
     "data": {
      "text/plain": [
       "['13', '21', '37', '50', '59', '67', '71', '73', '78', '94']"
      ]
     },
     "execution_count": 44,
     "metadata": {},
     "output_type": "execute_result"
    }
   ],
   "source": [
    "shell_knuth_sort(str2arr(\"37 94 78 71 13 59 67 50 21 73\"))"
   ]
  },
  {
   "cell_type": "code",
   "execution_count": 104,
   "metadata": {
    "collapsed": false
   },
   "outputs": [
    {
     "name": "stdout",
     "output_type": "stream",
     "text": [
      "13 18 80 92 95 96 30 53 72 55 46 54\n"
     ]
    },
    {
     "data": {
      "text/plain": [
       "['13', '18', '30', '46', '53', '54', '55', '72', '80', '92', '95', '96']"
      ]
     },
     "execution_count": 104,
     "metadata": {},
     "output_type": "execute_result"
    }
   ],
   "source": [
    "merge_sort(str2arr(\"96 80 95 18 92 13 30 72 53 55 46 54\"))"
   ]
  },
  {
   "cell_type": "code",
   "execution_count": null,
   "metadata": {
    "collapsed": true
   },
   "outputs": [],
   "source": []
  }
 ],
 "metadata": {
  "kernelspec": {
   "display_name": "Python 3",
   "language": "python",
   "name": "python3"
  },
  "language_info": {
   "codemirror_mode": {
    "name": "ipython",
    "version": 3
   },
   "file_extension": ".py",
   "mimetype": "text/x-python",
   "name": "python",
   "nbconvert_exporter": "python",
   "pygments_lexer": "ipython3",
   "version": "3.5.1"
  }
 },
 "nbformat": 4,
 "nbformat_minor": 0
}
