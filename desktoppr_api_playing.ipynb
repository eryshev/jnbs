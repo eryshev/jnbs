{
 "cells": [
  {
   "cell_type": "code",
   "execution_count": 47,
   "metadata": {
    "collapsed": true
   },
   "outputs": [],
   "source": [
    "import requests\n",
    "base_url = 'https://api.desktoppr.co'"
   ]
  },
  {
   "cell_type": "code",
   "execution_count": 48,
   "metadata": {
    "collapsed": false
   },
   "outputs": [],
   "source": [
    "not_safe_resp = requests.get('{}/{}'.format(base_url, '1/wallpapers/random?safe_filter=all'))"
   ]
  },
  {
   "cell_type": "code",
   "execution_count": 49,
   "metadata": {
    "collapsed": false
   },
   "outputs": [],
   "source": [
    "image_url = not_safe_resp.json()['response']['image']['url']"
   ]
  },
  {
   "cell_type": "code",
   "execution_count": 50,
   "metadata": {
    "collapsed": false
   },
   "outputs": [],
   "source": [
    "image_resp = requests.get(image_url)"
   ]
  },
  {
   "cell_type": "code",
   "execution_count": 51,
   "metadata": {
    "collapsed": true
   },
   "outputs": [],
   "source": [
    "with open('test.jpg', 'wb') as test:\n",
    "    test.write(image_resp.content)"
   ]
  },
  {
   "cell_type": "code",
   "execution_count": 52,
   "metadata": {
    "collapsed": false
   },
   "outputs": [
    {
     "data": {
      "text/plain": [
       "CompletedProcess(args=['gsettings', 'set', 'org.gnome.desktop.background', 'picture-uri', 'file:///home/eryshev-alexey/dev/py_projects/jnbs/test.jpg'], returncode=0)"
      ]
     },
     "execution_count": 52,
     "metadata": {},
     "output_type": "execute_result"
    }
   ],
   "source": [
    "import subprocess\n",
    "command = 'gsettings'\n",
    "sub_command = 'set'\n",
    "schema = 'org.gnome.desktop.background'\n",
    "arg = 'picture-uri'\n",
    "file_uri = 'file:///home/eryshev-alexey/dev/py_projects/jnbs/test.jpg'\n",
    "subprocess.run([command, sub_command, schema, arg, file_uri])"
   ]
  }
 ],
 "metadata": {
  "kernelspec": {
   "display_name": "Python 3",
   "language": "python",
   "name": "python3"
  },
  "language_info": {
   "codemirror_mode": {
    "name": "ipython",
    "version": 3
   },
   "file_extension": ".py",
   "mimetype": "text/x-python",
   "name": "python",
   "nbconvert_exporter": "python",
   "pygments_lexer": "ipython3",
   "version": "3.5.1"
  }
 },
 "nbformat": 4,
 "nbformat_minor": 0
}
